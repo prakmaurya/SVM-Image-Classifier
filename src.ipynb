#Importing all required packages
import pandas as pd
from sklearn import svm
from sklearn.model_selection import GridSearchCV
import os
import matplotlib.pyplot as plt
from skimage.transform import resize
from skimage.io import imread
import numpy as np
from sklearn.model_selection import train_test_split
from sklearn.metrics import classification_report,accuracy_score,confusion_matrix
import pickle

Categories=['Cars','Ice cream cone','Cricket ball']
#Classifying the images in 3 categories namely: cars, cricket ball, ice cream cone

flat_arr=[]
target_arr=[]
dat_dir='C:\Prakriti\Cars\Image-Classification-main'
for i in Categories:
    print(f'loading... category : {i}')
    path=os.path.join(dat_dir,i)
    for img in os.listdir(path):
            #Augmented the data(image) by resizing and falattening the numpy array
            img_array=imread(os.path.join(path,img))
            img_resized=resize(img_array,(150,150,3))
            flat_arr.append(img_resized.flatten())
            target_arr.append(Categories.index(i))
    print(f'loaded category:{i} successfully')
flat_data=np.array(flat_arr)
target=np.array(target_arr)
df=pd.DataFrame(flat_data)
df['Target']=target
df
#Splitting the dataset into 20% testing dataset and 80% training dataset 

x=df.iloc[:,:-1]
y=df.iloc[:,-1]
x_train,x_test,y_train,y_test=train_test_split(x,y,test_size=0.20,random_state=77,stratify=y)
print("Dataset splitted successfully")

#Training the model on splitted dataset
param_grid={'C':[0.1,1,10,100],'gamma':[0.0001,0.001,0.1,1],'kernel':['rbf','poly']}
svc=svm.SVC(probability=True)
print("Training the model")
model=GridSearchCV(svc,param_grid)
model.fit(x_train,y_train)
print('Model is trained')
model.best_params_

#Predicting the testing dataset
y_pred=model.predict(x_test)
print("The predicted Data is :")
y_pred

print("The actual data is:")
np.array(y_test)

#Evaluating the performance of SVM model on testing dat
#classification_report(y_pred,y_test)
print("Accuracy score on testing data:",model.score(x_test,y_test))
print("Accuracy score on training data is:",model.score(x_train,y_train))
print(f"The model is {accuracy_score(y_pred,y_test)*100}% accurate")

#Computing the classification metrics on augmented dataset
from sklearn.metrics import classification_report
print(classification_report(y_test, y_pred))

#Testing our Model on an image and develop 3D illustration of model

pickle.dump(model,open('img_model.p','wb'))
model=pickle.load(open('img_model.p','rb'))
import urllib.request
from PIL import Image
url=input("Enter url")  
urllib.request.urlretrieve(url, "gfg.png")
img = numpy.array(Image.open("gfg.png"))
plt.imshow(img)
plt.show()
img_resize=resize(img,(150,150,3))
l=[img_resize.flatten()]
probability=model.predict_proba(l)
for ind,val in enumerate(Categories):
    print(f'{val} = {probability[0][ind]*100}%')
print("The predicted image is : "+Categories[model.predict(l)[0]])


#Developing 3D illustration of results(Precision,recall,F1 score)
#obtained from svm model

from mpl_toolkits.mplot3d import Axes3D
import numpy as np

# Example performance metrics for three classes
ice_cream_metrics = [1.0, 0.88, 0.93]  # Precision, recall, F1 score
car_metrics = [1.0, 0.83, 0.91]
cricket_ball_metrics = [0.75, 1.0, 0.86]

# Create 3D scatter plot
fig = plt.figure()
ax = fig.add_subplot(111, projection='3d')

# Define x, y, and z coordinates for each class
x_coords = [ice_cream_metrics[0], car_metrics[0], cricket_ball_metrics[0]]
y_coords = [ice_cream_metrics[1], car_metrics[1], cricket_ball_metrics[1]]
z_coords = [ice_cream_metrics[2], car_metrics[2], cricket_ball_metrics[2]]

# Define colors for each point
colors = ['r', 'g', 'b']

# Plot scatter points
ax.scatter(x_coords, y_coords, z_coords, c=colors, marker='o')

# Add labels and title
ax.set_xlabel('Precision')
ax.set_ylabel('Recall')
ax.set_zlabel('F1 Score')
ax.set_title('SVM Model Performance - Ice Cream, Car, and Cricket Ball')

# Save and Show plot
plt.savefig('3dplot.jpeg', dpi=300)

plt.show()
